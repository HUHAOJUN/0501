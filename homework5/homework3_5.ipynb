{
 "cells": [
  {
   "cell_type": "code",
   "execution_count": 1,
   "metadata": {},
   "outputs": [],
   "source": [
    "def add(num1,num2):\n",
    "    return num1 + num2"
   ]
  },
  {
   "cell_type": "code",
   "execution_count": 2,
   "metadata": {},
   "outputs": [],
   "source": [
    "def sub(num1,num2):\n",
    "    return num1 - num2"
   ]
  },
  {
   "cell_type": "code",
   "execution_count": 3,
   "metadata": {},
   "outputs": [],
   "source": [
    "def mul(num1,num2):\n",
    "    return num1 * num2"
   ]
  },
  {
   "cell_type": "code",
   "execution_count": 5,
   "metadata": {},
   "outputs": [],
   "source": [
    "def div(num1,num2):\n",
    "    return num1 / num2"
   ]
  },
  {
   "cell_type": "code",
   "execution_count": 22,
   "metadata": {},
   "outputs": [],
   "source": [
    "def math1(func,num1,num2):\n",
    "    return func(num1,num2)"
   ]
  },
  {
   "cell_type": "code",
   "execution_count": 29,
   "metadata": {},
   "outputs": [
    {
     "name": "stdout",
     "output_type": "stream",
     "text": [
      "請輸入第一個數10\n",
      "請輸入第二個數20\n",
      "請輸入運算符號+\n",
      "30\n"
     ]
    }
   ],
   "source": [
    "num1 = input(\"請輸入第一個數\")\n",
    "num2 = input(\"請輸入第二個數\")\n",
    "sym = input(\"請輸入運算符號\")\n",
    "if \"+\" == sym:\n",
    "    sym = add\n",
    "elif \"-\" == sym:\n",
    "    sym = sub\n",
    "elif \"*\" == sym:\n",
    "    sym = mul\n",
    "elif \"/\" == sym:\n",
    "    sym = div\n",
    "try:\n",
    "    print(math1(sym,int(num1),int(num2)))\n",
    "except ValueError:\n",
    "    print('請輸入阿拉伯數字')"
   ]
  },
  {
   "cell_type": "code",
   "execution_count": null,
   "metadata": {},
   "outputs": [],
   "source": []
  }
 ],
 "metadata": {
  "kernelspec": {
   "display_name": "Python 3",
   "language": "python",
   "name": "python3"
  },
  "language_info": {
   "codemirror_mode": {
    "name": "ipython",
    "version": 3
   },
   "file_extension": ".py",
   "mimetype": "text/x-python",
   "name": "python",
   "nbconvert_exporter": "python",
   "pygments_lexer": "ipython3",
   "version": "3.7.2"
  }
 },
 "nbformat": 4,
 "nbformat_minor": 2
}
